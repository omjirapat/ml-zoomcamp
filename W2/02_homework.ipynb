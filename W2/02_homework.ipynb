{
 "cells": [
  {
   "cell_type": "markdown",
   "id": "fbf587af-5100-4927-bd38-f1c18a05662e",
   "metadata": {},
   "source": [
    "#### Load the dataset "
   ]
  },
  {
   "cell_type": "code",
   "execution_count": 26,
   "id": "95381553-d3e9-4207-ab0a-de3c8878559b",
   "metadata": {},
   "outputs": [],
   "source": [
    "import pandas as pd\n",
    "\n",
    "df = pd.read_csv('./data/laptops.csv')"
   ]
  },
  {
   "cell_type": "code",
   "execution_count": 27,
   "id": "07c7f60a-7e80-4f16-bf7f-92270ec8c19c",
   "metadata": {},
   "outputs": [
    {
     "data": {
      "text/html": [
       "<div>\n",
       "<style scoped>\n",
       "    .dataframe tbody tr th:only-of-type {\n",
       "        vertical-align: middle;\n",
       "    }\n",
       "\n",
       "    .dataframe tbody tr th {\n",
       "        vertical-align: top;\n",
       "    }\n",
       "\n",
       "    .dataframe thead th {\n",
       "        text-align: right;\n",
       "    }\n",
       "</style>\n",
       "<table border=\"1\" class=\"dataframe\">\n",
       "  <thead>\n",
       "    <tr style=\"text-align: right;\">\n",
       "      <th></th>\n",
       "      <th>Laptop</th>\n",
       "      <th>Status</th>\n",
       "      <th>Brand</th>\n",
       "      <th>Model</th>\n",
       "      <th>CPU</th>\n",
       "      <th>RAM</th>\n",
       "      <th>Storage</th>\n",
       "      <th>Storage type</th>\n",
       "      <th>GPU</th>\n",
       "      <th>Screen</th>\n",
       "      <th>Touch</th>\n",
       "      <th>Final Price</th>\n",
       "    </tr>\n",
       "  </thead>\n",
       "  <tbody>\n",
       "    <tr>\n",
       "      <th>0</th>\n",
       "      <td>ASUS ExpertBook B1 B1502CBA-EJ0436X Intel Core...</td>\n",
       "      <td>New</td>\n",
       "      <td>Asus</td>\n",
       "      <td>ExpertBook</td>\n",
       "      <td>Intel Core i5</td>\n",
       "      <td>8</td>\n",
       "      <td>512</td>\n",
       "      <td>SSD</td>\n",
       "      <td>NaN</td>\n",
       "      <td>15.6</td>\n",
       "      <td>No</td>\n",
       "      <td>1009.00</td>\n",
       "    </tr>\n",
       "    <tr>\n",
       "      <th>1</th>\n",
       "      <td>Alurin Go Start Intel Celeron N4020/8GB/256GB ...</td>\n",
       "      <td>New</td>\n",
       "      <td>Alurin</td>\n",
       "      <td>Go</td>\n",
       "      <td>Intel Celeron</td>\n",
       "      <td>8</td>\n",
       "      <td>256</td>\n",
       "      <td>SSD</td>\n",
       "      <td>NaN</td>\n",
       "      <td>15.6</td>\n",
       "      <td>No</td>\n",
       "      <td>299.00</td>\n",
       "    </tr>\n",
       "    <tr>\n",
       "      <th>2</th>\n",
       "      <td>ASUS ExpertBook B1 B1502CBA-EJ0424X Intel Core...</td>\n",
       "      <td>New</td>\n",
       "      <td>Asus</td>\n",
       "      <td>ExpertBook</td>\n",
       "      <td>Intel Core i3</td>\n",
       "      <td>8</td>\n",
       "      <td>256</td>\n",
       "      <td>SSD</td>\n",
       "      <td>NaN</td>\n",
       "      <td>15.6</td>\n",
       "      <td>No</td>\n",
       "      <td>789.00</td>\n",
       "    </tr>\n",
       "    <tr>\n",
       "      <th>3</th>\n",
       "      <td>MSI Katana GF66 12UC-082XES Intel Core i7-1270...</td>\n",
       "      <td>New</td>\n",
       "      <td>MSI</td>\n",
       "      <td>Katana</td>\n",
       "      <td>Intel Core i7</td>\n",
       "      <td>16</td>\n",
       "      <td>1000</td>\n",
       "      <td>SSD</td>\n",
       "      <td>RTX 3050</td>\n",
       "      <td>15.6</td>\n",
       "      <td>No</td>\n",
       "      <td>1199.00</td>\n",
       "    </tr>\n",
       "    <tr>\n",
       "      <th>4</th>\n",
       "      <td>HP 15S-FQ5085NS Intel Core i5-1235U/16GB/512GB...</td>\n",
       "      <td>New</td>\n",
       "      <td>HP</td>\n",
       "      <td>15S</td>\n",
       "      <td>Intel Core i5</td>\n",
       "      <td>16</td>\n",
       "      <td>512</td>\n",
       "      <td>SSD</td>\n",
       "      <td>NaN</td>\n",
       "      <td>15.6</td>\n",
       "      <td>No</td>\n",
       "      <td>669.01</td>\n",
       "    </tr>\n",
       "  </tbody>\n",
       "</table>\n",
       "</div>"
      ],
      "text/plain": [
       "                                              Laptop Status   Brand  \\\n",
       "0  ASUS ExpertBook B1 B1502CBA-EJ0436X Intel Core...    New    Asus   \n",
       "1  Alurin Go Start Intel Celeron N4020/8GB/256GB ...    New  Alurin   \n",
       "2  ASUS ExpertBook B1 B1502CBA-EJ0424X Intel Core...    New    Asus   \n",
       "3  MSI Katana GF66 12UC-082XES Intel Core i7-1270...    New     MSI   \n",
       "4  HP 15S-FQ5085NS Intel Core i5-1235U/16GB/512GB...    New      HP   \n",
       "\n",
       "        Model            CPU  RAM  Storage Storage type       GPU  Screen  \\\n",
       "0  ExpertBook  Intel Core i5    8      512          SSD       NaN    15.6   \n",
       "1          Go  Intel Celeron    8      256          SSD       NaN    15.6   \n",
       "2  ExpertBook  Intel Core i3    8      256          SSD       NaN    15.6   \n",
       "3      Katana  Intel Core i7   16     1000          SSD  RTX 3050    15.6   \n",
       "4         15S  Intel Core i5   16      512          SSD       NaN    15.6   \n",
       "\n",
       "  Touch  Final Price  \n",
       "0    No      1009.00  \n",
       "1    No       299.00  \n",
       "2    No       789.00  \n",
       "3    No      1199.00  \n",
       "4    No       669.01  "
      ]
     },
     "execution_count": 27,
     "metadata": {},
     "output_type": "execute_result"
    }
   ],
   "source": [
    "df.head()"
   ]
  },
  {
   "cell_type": "code",
   "execution_count": 28,
   "id": "d52253e5-4d56-449f-ab11-58a4b8022616",
   "metadata": {},
   "outputs": [
    {
     "data": {
      "text/plain": [
       "Index(['Laptop', 'Status', 'Brand', 'Model', 'CPU', 'RAM', 'Storage',\n",
       "       'Storage type', 'GPU', 'Screen', 'Touch', 'Final Price'],\n",
       "      dtype='object')"
      ]
     },
     "execution_count": 28,
     "metadata": {},
     "output_type": "execute_result"
    }
   ],
   "source": [
    "df.columns"
   ]
  },
  {
   "cell_type": "code",
   "execution_count": 29,
   "id": "6cefb2ed-306e-4593-aad7-3e2a58986656",
   "metadata": {},
   "outputs": [],
   "source": [
    "df.columns = df.columns.str.lower().str.replace(' ', '_')"
   ]
  },
  {
   "cell_type": "code",
   "execution_count": 30,
   "id": "0b70c61c-b758-416a-a648-06f28f0406a6",
   "metadata": {},
   "outputs": [
    {
     "name": "stdout",
     "output_type": "stream",
     "text": [
      "Index(['laptop', 'status', 'brand', 'model', 'cpu', 'ram', 'storage',\n",
      "       'storage_type', 'gpu', 'screen', 'touch', 'final_price'],\n",
      "      dtype='object')\n"
     ]
    }
   ],
   "source": [
    "print(df.columns)"
   ]
  },
  {
   "cell_type": "code",
   "execution_count": 31,
   "id": "a290fed0-ea96-4ad1-828a-877894a0e651",
   "metadata": {},
   "outputs": [],
   "source": [
    "df = df[['ram', 'storage', 'screen', 'final_price']]"
   ]
  },
  {
   "cell_type": "code",
   "execution_count": 32,
   "id": "50d3dbe7-0318-438f-8119-ef91f6cdc534",
   "metadata": {},
   "outputs": [],
   "source": [
    "### Exploratory Data Analysis"
   ]
  },
  {
   "cell_type": "code",
   "execution_count": 33,
   "id": "2f2c62ce-7e7f-43db-b160-a7293a10b97b",
   "metadata": {},
   "outputs": [
    {
     "data": {
      "image/png": "[encoded data removed]",
      "text/plain": [
       "<Figure size 640x480 with 1 Axes>"
      ]
     },
     "metadata": {},
     "output_type": "display_data"
    }
   ],
   "source": [
    "import matplotlib.pyplot as plt\n",
    "plt.hist(df['final_price'], bins=50)\n",
    "plt.show()"
   ]
  },
  {
   "cell_type": "markdown",
   "id": "9185ad05-181c-4acf-a36f-adf789408346",
   "metadata": {},
   "source": [
    "#### Question 1: Column with missing values"
   ]
  },
  {
   "cell_type": "code",
   "execution_count": 34,
   "id": "bdb31a62-dbe5-45e0-9f7c-cbb396a393e5",
   "metadata": {},
   "outputs": [
    {
     "data": {
      "text/plain": [
       "ram            0\n",
       "storage        0\n",
       "screen         4\n",
       "final_price    0\n",
       "dtype: int64"
      ]
     },
     "execution_count": 34,
     "metadata": {},
     "output_type": "execute_result"
    }
   ],
   "source": [
    "df.isnull().sum()"
   ]
  },
  {
   "cell_type": "markdown",
   "id": "f2bab72f-8176-4148-873e-d8ca8df3ff38",
   "metadata": {},
   "source": [
    "##### Question 2: Median of the 'ram' variable"
   ]
  },
  {
   "cell_type": "code",
   "execution_count": 36,
   "id": "be605484-f4e8-4528-b5c0-170f16c8f809",
   "metadata": {},
   "outputs": [
    {
     "name": "stdout",
     "output_type": "stream",
     "text": [
      "16.0\n"
     ]
    }
   ],
   "source": [
    "ram_median = df['ram'].median()\n",
    "print(ram_median)"
   ]
  },
  {
   "cell_type": "markdown",
   "id": "9d76c596-0002-4d1c-b167-b14c4bc6aa23",
   "metadata": {},
   "source": [
    "#### Split the Dataset"
   ]
  },
  {
   "cell_type": "code",
   "execution_count": 41,
   "id": "31605717-7624-45cc-b7c2-fb23eac486c8",
   "metadata": {},
   "outputs": [],
   "source": [
    "from sklearn.model_selection import train_test_split\n",
    "\n",
    "df_full_train, df_test = train_test_split(df, test_size=0.2, random_state=42)\n",
    "df_train, df_val = train_test_split(df_full_train, test_size=0.25, random_state=42) "
   ]
  },
  {
   "cell_type": "markdown",
   "id": "56c1122e-5205-4d75-8f62-f6f2a29353c4",
   "metadata": {},
   "source": [
    "#### Question 3: Handling Missing Values"
   ]
  },
  {
   "cell_type": "markdown",
   "id": "06bdb7a4-333b-4bc7-8e4d-89d6d7a9e0ee",
   "metadata": {},
   "source": [
    "##### Fill missing values with 0"
   ]
  },
  {
   "cell_type": "code",
   "execution_count": 45,
   "id": "f726b393-4312-436b-8335-1587d4d7a18a",
   "metadata": {},
   "outputs": [],
   "source": [
    "df_train_filled_0 = df_train_filled = df_train.fillna(0)"
   ]
  },
  {
   "cell_type": "markdown",
   "id": "a3e8af5b-611e-439a-8682-62cb585eeb77",
   "metadata": {},
   "source": [
    "##### Fill missing values with the mean of the training set:"
   ]
  },
  {
   "cell_type": "code",
   "execution_count": 46,
   "id": "f72b0c80-6bef-4f44-bb3d-3a37c24c5bd7",
   "metadata": {},
   "outputs": [],
   "source": [
    "mean_value = df_train.mean()\n",
    "df_train_filled_mean = df_train_filled = df_train.fillna(mean_value)"
   ]
  },
  {
   "cell_type": "markdown",
   "id": "2429177a-1b1e-43fa-9335-2da211c2fe0d",
   "metadata": {},
   "source": [
    "###### Prepare your features (X) and target (y)"
   ]
  },
  {
   "cell_type": "code",
   "execution_count": 51,
   "id": "f0280fb8-6588-45fc-8b83-7a0a8adeb2ef",
   "metadata": {},
   "outputs": [],
   "source": [
    "from sklearn.linear_model import LinearRegression\n",
    "from sklearn.metrics import mean_squared_error\n",
    "import numpy as np\n",
    "\n",
    "X_train = df_train_filled[['ram', 'storage', 'screen']].values\n",
    "y_train = df_train_filled['final_price'].values\n",
    "\n",
    "X_val = df_val[['ram', 'storage', 'screen']].values\n",
    "y_val = df_val['final_price'].values"
   ]
  },
  {
   "cell_type": "code",
   "execution_count": 55,
   "id": "18d56aa3-cd87-42dc-8bdd-d1f18a97daec",
   "metadata": {},
   "outputs": [],
   "source": [
    "##### Train the model:\n",
    "model = LinearRegression()\n",
    "model.fit(X_train, y_train)\n",
    "\n",
    "# Make predictions\n",
    "y_pred = model.predict(X_val)\n",
    "\n",
    "# Calculate RMSE\n",
    "rmse = np.sqrt(mean_squared_error(y_val, y_pred))"
   ]
  },
  {
   "cell_type": "markdown",
   "id": "6798fb5d-a1fb-40ea-b838-089d56467120",
   "metadata": {},
   "source": [
    "##### Question 4: Regularized Linear Regression"
   ]
  },
  {
   "cell_type": "code",
   "execution_count": 56,
   "id": "895df05f-e930-43db-8da6-556056ab56e9",
   "metadata": {},
   "outputs": [
    {
     "name": "stdout",
     "output_type": "stream",
     "text": [
      "r=0, RMSE=617.00\n",
      "r=0.01, RMSE=617.00\n",
      "r=0.1, RMSE=617.00\n",
      "r=1, RMSE=617.00\n",
      "r=5, RMSE=617.00\n",
      "r=10, RMSE=617.00\n",
      "r=100, RMSE=617.01\n"
     ]
    }
   ],
   "source": [
    "from sklearn.linear_model import Ridge\n",
    "\n",
    "r_values = [0, 0.01, 0.1, 1, 5, 10, 100]\n",
    "best_rmse = float('inf')\n",
    "best_r = None\n",
    "\n",
    "for r in r_values:\n",
    "    model_ridge = Ridge(alpha=r)\n",
    "    model_ridge.fit(X_train, y_train)\n",
    "\n",
    "    # Make predictions and calculate RMSE\n",
    "    y_pred_ridge = model_ridge.predict(X_val)\n",
    "    rmse_ridge = np.sqrt(mean_squared_error(y_val, y_pred_ridge))\n",
    "\n",
    "    print(f'r={r}, RMSE={rmse_ridge:.2f}')\n",
    "\n",
    "    if rmse_ridge < best_rmse:\n",
    "        best_rmse = rmse_ridge\n",
    "        best_r = r"
   ]
  },
  {
   "cell_type": "markdown",
   "id": "c84d32d4-6ccc-4c23-b01d-7bf56fee0a7b",
   "metadata": {},
   "source": [
    "#### Question 5: Impact of Seed on RMSE"
   ]
  },
  {
   "cell_type": "code",
   "execution_count": 53,
   "id": "ed149ff0-e0c9-40e9-ac07-f6ab6ecd873c",
   "metadata": {},
   "outputs": [
    {
     "name": "stdout",
     "output_type": "stream",
     "text": [
      "Standard deviation of RMSE: 36.290\n"
     ]
    }
   ],
   "source": [
    "seeds = [0, 1, 2, 3, 4, 5, 6, 7, 8, 9]\n",
    "rmse_scores = []\n",
    "\n",
    "for seed in seeds:\n",
    "    df_full_train, df_test = train_test_split(df, test_size=0.2, random_state=seed)\n",
    "    df_train, df_val = train_test_split(df_full_train, test_size=0.25, random_state=seed)\n",
    "\n",
    "    df_train_filled_0 = df_train.fillna(0)\n",
    "    df_val_filled_0 = df_val.fillna(0)\n",
    "\n",
    "    X_train = df_train_filled_0[['ram', 'storage', 'screen']].values\n",
    "    y_train = df_train_filled_0['final_price'].values\n",
    "\n",
    "    X_val = df_val_filled_0[['ram', 'storage', 'screen']].values\n",
    "    y_val = df_val_filled_0['final_price'].values\n",
    "\n",
    "    model = LinearRegression()\n",
    "    model.fit(X_train, y_train)\n",
    "    \n",
    "    y_pred = model.predict(X_val)\n",
    "    rmse = np.sqrt(mean_squared_error(y_val, y_pred))\n",
    "    \n",
    "    rmse_scores.append(rmse)\n",
    "\n",
    "std_rmse = np.std(rmse_scores)\n",
    "print(f'Standard deviation of RMSE: {std_rmse:.3f}')"
   ]
  },
  {
   "cell_type": "markdown",
   "id": "cccebdea-8d40-4a96-989c-02a646a975f8",
   "metadata": {},
   "source": [
    "##### Question 6: Final Model"
   ]
  },
  {
   "cell_type": "code",
   "execution_count": 54,
   "id": "d964c2e0-509d-4edb-b5ce-4a25e0f43c71",
   "metadata": {},
   "outputs": [
    {
     "name": "stdout",
     "output_type": "stream",
     "text": [
      "RMSE on test dataset: 535.08\n"
     ]
    }
   ],
   "source": [
    "df_full_train, df_test = train_test_split(df, test_size=0.2, random_state=9)\n",
    "df_train, df_val = train_test_split(df_full_train, test_size=0.25, random_state=9)\n",
    "\n",
    "df_train_combined = pd.concat([df_train, df_val]).fillna(0)\n",
    "\n",
    "X_train_combined = df_train_combined[['ram', 'storage', 'screen']].values\n",
    "y_train_combined = df_train_combined['final_price'].values\n",
    "\n",
    "X_test = df_test[['ram', 'storage', 'screen']].values\n",
    "y_test = df_test['final_price'].values\n",
    "\n",
    "# Train the model with r=0.001\n",
    "model_ridge = Ridge(alpha=0.001)\n",
    "model_ridge.fit(X_train_combined, y_train_combined)\n",
    "\n",
    "# Evaluate on the test set\n",
    "y_pred_test = model_ridge.predict(X_test)\n",
    "rmse_test = np.sqrt(mean_squared_error(y_test, y_pred_test))\n",
    "print(f'RMSE on test dataset: {rmse_test:.2f}')"
   ]
  }
 ],
 "metadata": {
  "kernelspec": {
   "display_name": "Python 3 (ipykernel)",
   "language": "python",
   "name": "python3"
  },
  "language_info": {
   "codemirror_mode": {
    "name": "ipython",
    "version": 3
   },
   "file_extension": ".py",
   "mimetype": "text/x-python",
   "name": "python",
   "nbconvert_exporter": "python",
   "pygments_lexer": "ipython3",
   "version": "3.12.5"
  }
 },
 "nbformat": 4,
 "nbformat_minor": 5
}
